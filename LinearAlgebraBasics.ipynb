{
  "nbformat": 4,
  "nbformat_minor": 5,
  "metadata": {
    "kernelspec": {
      "display_name": "Python 3",
      "language": "python",
      "name": "python3"
    },
    "language_info": {
      "codemirror_mode": {
        "name": "ipython",
        "version": 3
      },
      "file_extension": ".py",
      "mimetype": "text/x-python",
      "name": "python",
      "nbconvert_exporter": "python",
      "pygments_lexer": "ipython3",
      "version": "3.8.8"
    },
    "colab": {
      "name": "LinearAlgebraBasics.ipynb",
      "provenance": [],
      "collapsed_sections": [],
      "include_colab_link": true
    }
  },
  "cells": [
    {
      "cell_type": "markdown",
      "metadata": {
        "id": "view-in-github",
        "colab_type": "text"
      },
      "source": [
        "<a href=\"https://colab.research.google.com/github/22hash/AIMLLabs/blob/main/LinearAlgebraBasics.ipynb\" target=\"_parent\"><img src=\"https://colab.research.google.com/assets/colab-badge.svg\" alt=\"Open In Colab\"/></a>"
      ]
    },
    {
      "cell_type": "code",
      "metadata": {
        "id": "f9c794df"
      },
      "source": [
        "import numpy as np\n",
        "import math\n",
        "import functools as ft\n",
        "from operator import add, mul\n",
        "import random"
      ],
      "id": "f9c794df",
      "execution_count": 1,
      "outputs": []
    },
    {
      "cell_type": "code",
      "metadata": {
        "id": "8f46536f"
      },
      "source": [
        "def get_random_vector(dimensions=2):\n",
        "    \"\"\"Generates two n dimensional vectors integer coordinates between 1 to 10\"\"\"\n",
        "    vector1 = np.array([random.randint(1,10) for x in range(dimensions)])\n",
        "    vector2 = np.array([random.randint(1,10) for x in range(dimensions)])\n",
        "    return vector1, vector2 "
      ],
      "id": "8f46536f",
      "execution_count": 2,
      "outputs": []
    },
    {
      "cell_type": "code",
      "metadata": {
        "colab": {
          "base_uri": "https://localhost:8080/"
        },
        "id": "cb71213a",
        "outputId": "95918b37-5471-4843-bce3-3ec1cf2df8cc"
      },
      "source": [
        "dimensions = 2\n",
        "a, b = get_random_vector(dimensions)\n",
        "\n",
        "# dimensions = 2\n",
        "# a, b = np.array([3,5]), np.array([8,2])\n",
        "a, b"
      ],
      "id": "cb71213a",
      "execution_count": 3,
      "outputs": [
        {
          "output_type": "execute_result",
          "data": {
            "text/plain": [
              "(array([5, 2]), array([ 2, 10]))"
            ]
          },
          "metadata": {},
          "execution_count": 3
        }
      ]
    },
    {
      "cell_type": "code",
      "metadata": {
        "colab": {
          "base_uri": "https://localhost:8080/"
        },
        "id": "db76c061",
        "outputId": "3c6f6dfe-6a6a-4f80-bf39-5fa255bc4fa6"
      },
      "source": [
        "#Magnitude/Norm\n",
        "norm_a = np.linalg.norm(a)\n",
        "norm_b = np.linalg.norm(b)\n",
        "norm_a, norm_b"
      ],
      "id": "db76c061",
      "execution_count": 4,
      "outputs": [
        {
          "output_type": "execute_result",
          "data": {
            "text/plain": [
              "(5.385164807134504, 10.198039027185569)"
            ]
          },
          "metadata": {},
          "execution_count": 4
        }
      ]
    },
    {
      "cell_type": "markdown",
      "metadata": {
        "id": "11623ea6"
      },
      "source": [
        "### Unit vector\n",
        "\n",
        "$\\bar{x}' = \\dfrac{\\bar{x}}{||\\bar{x}||} = \\dfrac{\\bar{x}}{\\sqrt{\\bar{x}.\\bar{x}}}$"
      ],
      "id": "11623ea6"
    },
    {
      "cell_type": "code",
      "metadata": {
        "id": "29c91dc2"
      },
      "source": [
        "def unit_vector(vector):\n",
        "    return vector/np.linalg.norm(vector)"
      ],
      "id": "29c91dc2",
      "execution_count": 5,
      "outputs": []
    },
    {
      "cell_type": "code",
      "metadata": {
        "colab": {
          "base_uri": "https://localhost:8080/"
        },
        "id": "02929267",
        "outputId": "824d46cc-5a1d-47d6-f75a-fd31a1611857"
      },
      "source": [
        "#Unit vectors\n",
        "ua = unit_vector(a)\n",
        "ub = unit_vector(b)\n",
        "ub, ua"
      ],
      "id": "02929267",
      "execution_count": 6,
      "outputs": [
        {
          "output_type": "execute_result",
          "data": {
            "text/plain": [
              "(array([0.19611614, 0.98058068]), array([0.92847669, 0.37139068]))"
            ]
          },
          "metadata": {},
          "execution_count": 6
        }
      ]
    },
    {
      "cell_type": "code",
      "metadata": {
        "colab": {
          "base_uri": "https://localhost:8080/"
        },
        "id": "f65bcda1",
        "outputId": "474f3c10-7e99-47b1-8c4c-e127d073f955"
      },
      "source": [
        "#Magnitude/Norm of unit vector\n",
        "print(np.linalg.norm(ua))\n",
        "print(np.linalg.norm(ub))"
      ],
      "id": "f65bcda1",
      "execution_count": 7,
      "outputs": [
        {
          "output_type": "stream",
          "name": "stdout",
          "text": [
            "1.0\n",
            "1.0\n"
          ]
        }
      ]
    },
    {
      "cell_type": "markdown",
      "metadata": {
        "id": "5eab2453"
      },
      "source": [
        "### Vector Addition\n",
        "$ \\bar{x} + \\bar{y} = [x1 . . . xd] + [y1 . . . yd] = [x1 + y1 . . . xd + yd] $"
      ],
      "id": "5eab2453"
    },
    {
      "cell_type": "code",
      "metadata": {
        "colab": {
          "base_uri": "https://localhost:8080/"
        },
        "id": "045637b4",
        "outputId": "1d62453b-b321-47aa-b799-7242a6f2e5da"
      },
      "source": [
        "#Addition of the two vectors\n",
        "a + b"
      ],
      "id": "045637b4",
      "execution_count": 8,
      "outputs": [
        {
          "output_type": "execute_result",
          "data": {
            "text/plain": [
              "array([ 7, 12])"
            ]
          },
          "metadata": {},
          "execution_count": 8
        }
      ]
    },
    {
      "cell_type": "markdown",
      "metadata": {
        "id": "c095172e"
      },
      "source": [
        "### Vector Subtraction\n",
        "$ \\bar{x} - \\bar{y} = [x1 . . . xd] − [y1 . . . yd] = [x1 − y1 . . . xd − yd]$"
      ],
      "id": "c095172e"
    },
    {
      "cell_type": "code",
      "metadata": {
        "colab": {
          "base_uri": "https://localhost:8080/"
        },
        "id": "7df5c7d3",
        "outputId": "1544fcaa-694e-4ac8-9dd3-ccd59ac77940"
      },
      "source": [
        "#Subtraction of the two vectors\n",
        "a - b"
      ],
      "id": "7df5c7d3",
      "execution_count": 9,
      "outputs": [
        {
          "output_type": "execute_result",
          "data": {
            "text/plain": [
              "array([ 3, -8])"
            ]
          },
          "metadata": {},
          "execution_count": 9
        }
      ]
    },
    {
      "cell_type": "markdown",
      "metadata": {
        "id": "e7095c30"
      },
      "source": [
        "### Vector Scaling\n",
        "$ \\bar{x}' = a\\bar{x} = [ax1 . . . a xd] $"
      ],
      "id": "e7095c30"
    },
    {
      "cell_type": "code",
      "metadata": {
        "colab": {
          "base_uri": "https://localhost:8080/"
        },
        "id": "2e717649",
        "outputId": "71ba6c63-8982-4162-a1e1-946f3412d449"
      },
      "source": [
        "#Scaling of the vector/ multiplication with a scalar\n",
        "10*a"
      ],
      "id": "2e717649",
      "execution_count": 10,
      "outputs": [
        {
          "output_type": "execute_result",
          "data": {
            "text/plain": [
              "array([50, 20])"
            ]
          },
          "metadata": {},
          "execution_count": 10
        }
      ]
    },
    {
      "cell_type": "code",
      "metadata": {
        "colab": {
          "base_uri": "https://localhost:8080/"
        },
        "id": "c75152a2",
        "outputId": "4d6e17bc-8ce6-4597-ae18-17ef5b942553"
      },
      "source": [
        "#Multiplication of the two vectors\n",
        "a*b"
      ],
      "id": "c75152a2",
      "execution_count": 11,
      "outputs": [
        {
          "output_type": "execute_result",
          "data": {
            "text/plain": [
              "array([10, 20])"
            ]
          },
          "metadata": {},
          "execution_count": 11
        }
      ]
    },
    {
      "cell_type": "markdown",
      "metadata": {
        "id": "d816b7b9"
      },
      "source": [
        "### Dot Product\n",
        "$ \\bar{x} · \\bar{y} = \\displaystyle\\sum\\limits_{i=1}^d x_i y_i $"
      ],
      "id": "d816b7b9"
    },
    {
      "cell_type": "code",
      "metadata": {
        "colab": {
          "base_uri": "https://localhost:8080/"
        },
        "id": "4bcc7ca0",
        "outputId": "4146df92-8918-4558-8b52-d07b54a30e3e"
      },
      "source": [
        "#Dot product\n",
        "np.dot(a,b)"
      ],
      "id": "4bcc7ca0",
      "execution_count": 12,
      "outputs": [
        {
          "output_type": "execute_result",
          "data": {
            "text/plain": [
              "30"
            ]
          },
          "metadata": {},
          "execution_count": 12
        }
      ]
    },
    {
      "cell_type": "markdown",
      "metadata": {
        "id": "ffd73b9b"
      },
      "source": [
        "#### Dot product of a vector with itself is square of its magnitude\n",
        "$||\\bar{x}||^2 = \\bar{x}·\\bar{x} = \\displaystyle\\sum\\limits_{i=1}^d x_i^2$"
      ],
      "id": "ffd73b9b"
    },
    {
      "cell_type": "code",
      "metadata": {
        "colab": {
          "base_uri": "https://localhost:8080/"
        },
        "id": "7c6d54da",
        "outputId": "5e7e2c4f-e971-4f4c-cfbf-1ed961f62cf6"
      },
      "source": [
        "#Check if dot product of a vector with itself is square of its magnitude\n",
        "assert (np.dot(a,a))**0.5 == norm_a\n",
        "assert (np.dot(b,b))**0.5 == norm_b\n",
        "print(\"ok\")"
      ],
      "id": "7c6d54da",
      "execution_count": 13,
      "outputs": [
        {
          "output_type": "stream",
          "name": "stdout",
          "text": [
            "ok\n"
          ]
        }
      ]
    },
    {
      "cell_type": "markdown",
      "metadata": {
        "id": "8dc8957e"
      },
      "source": [
        "#### Dot product of two vectors is projection of one vector on another multiplied by the second vectors norm\n",
        "$ \\bar{x} · \\bar{y} = ||\\bar{x}||  ||\\bar{y}||  \\cos\\theta $"
      ],
      "id": "8dc8957e"
    },
    {
      "cell_type": "code",
      "metadata": {
        "id": "f271d1fa"
      },
      "source": [
        "def geometric_dot(x, y, theta):\n",
        "    \"\"\"Result of dot product of two vectors using the angle between the vectors\"\"\"\n",
        "    norm_x = np.linalg.norm(x)\n",
        "    norm_y = np.linalg.norm(y)\n",
        "    return norm_x * norm_y * math.cos(math.radians(theta))"
      ],
      "id": "f271d1fa",
      "execution_count": 14,
      "outputs": []
    },
    {
      "cell_type": "code",
      "metadata": {
        "colab": {
          "base_uri": "https://localhost:8080/"
        },
        "id": "6a988f67",
        "outputId": "f9b94446-d957-4b6f-d258-354e5834bd4e"
      },
      "source": [
        "#Getting angle between the two vectors in degrees for two dimensional vector\n",
        "if dimensions == 2:\n",
        "    theta_a = math.degrees(math.acos(a[0]/norm_a))\n",
        "    theta_b = math.degrees(math.acos(b[0]/norm_b))\n",
        "    angle_between_ab = theta_a - theta_b\n",
        "    print(angle_between_ab)"
      ],
      "id": "6a988f67",
      "execution_count": 15,
      "outputs": [
        {
          "output_type": "stream",
          "name": "stdout",
          "text": [
            "-56.888658039627984\n"
          ]
        }
      ]
    },
    {
      "cell_type": "code",
      "metadata": {
        "colab": {
          "base_uri": "https://localhost:8080/"
        },
        "id": "1863c33a",
        "outputId": "2617613c-2ff5-437c-d84b-eeaf2af12ac7"
      },
      "source": [
        "#Check if cos(theta) = dot product of the unit vectors where theta is the angle between the vectors\n",
        "if dimensions == 2:\n",
        "    print(math.acos(np.dot(ua,ub)))\n",
        "    print(math.radians(angle_between_ab))\n",
        "    assert abs(round(math.radians(angle_between_ab),10)) == round(math.acos(np.dot(ua,ub)),10)\n",
        "    print(\"ok\")\n"
      ],
      "id": "1863c33a",
      "execution_count": 16,
      "outputs": [
        {
          "output_type": "stream",
          "name": "stdout",
          "text": [
            "0.9928943898326509\n",
            "-0.9928943898326511\n",
            "ok\n"
          ]
        }
      ]
    },
    {
      "cell_type": "code",
      "metadata": {
        "colab": {
          "base_uri": "https://localhost:8080/"
        },
        "id": "277f1010",
        "outputId": "4b8af770-6eba-49a8-b025-ce15a097c013"
      },
      "source": [
        "#Checking if numpy's dot function result is same as our geometric dot function\n",
        "if dimensions == 2:\n",
        "    print(round(geometric_dot(a, b, angle_between_ab)))\n",
        "    print(np.dot(a, b))\n",
        "    assert round(geometric_dot(a, b, angle_between_ab)) == np.dot(a, b)\n",
        "    print(\"ok\")"
      ],
      "id": "277f1010",
      "execution_count": 17,
      "outputs": [
        {
          "output_type": "stream",
          "name": "stdout",
          "text": [
            "30\n",
            "30\n",
            "ok\n"
          ]
        }
      ]
    },
    {
      "cell_type": "code",
      "metadata": {
        "id": "ed7f7586"
      },
      "source": [
        "#Simulating numpy's dot function\n",
        "def my_dot(vector1, vector2):\n",
        "    return ft.reduce(add, map(mul, vector1, vector2))"
      ],
      "id": "ed7f7586",
      "execution_count": 18,
      "outputs": []
    },
    {
      "cell_type": "code",
      "metadata": {
        "colab": {
          "base_uri": "https://localhost:8080/"
        },
        "id": "5f520a8f",
        "outputId": "e6d3d3eb-ffcf-4f53-b2cb-d7204f53342c"
      },
      "source": [
        "#Check if simulation works\n",
        "assert my_dot(a, b) == np.dot(a, b)\n",
        "print(\"ok\")"
      ],
      "id": "5f520a8f",
      "execution_count": 19,
      "outputs": [
        {
          "output_type": "stream",
          "name": "stdout",
          "text": [
            "ok\n"
          ]
        }
      ]
    }
  ]
}